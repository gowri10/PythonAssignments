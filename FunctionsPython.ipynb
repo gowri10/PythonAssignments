{
 "cells": [
  {
   "cell_type": "code",
   "execution_count": 16,
   "id": "d3272c20-bd99-4423-9431-931dcdda1a9b",
   "metadata": {},
   "outputs": [],
   "source": [
    "fields=[\"Machine Learning\",\"Neural Networks\",\"Vision,Robotics\",\"Speech Processing\",\"Natural Language Processing\"]"
   ]
  },
  {
   "cell_type": "code",
   "execution_count": 17,
   "id": "6e900e35-87a2-4f0b-950c-cb0513e54fae",
   "metadata": {},
   "outputs": [],
   "source": [
    "#Create Class and Function and list out the items\n",
    "class SubfieldsInAI:\n",
    "    def Subfields():\n",
    "        print(\"Sub-fields in AI are:\")\n",
    "        for field in fields:\n",
    "            print(field)\n",
    "            #return"
   ]
  },
  {
   "cell_type": "code",
   "execution_count": 18,
   "id": "44b09194-5ef4-4f8d-a033-d37b3d97e39d",
   "metadata": {},
   "outputs": [
    {
     "name": "stdout",
     "output_type": "stream",
     "text": [
      "Sub-fields in AI are:\n",
      "Machine Learning\n",
      "Neural Networks\n",
      "Vision,Robotics\n",
      "Speech Processing\n",
      "Natural Language Processing\n"
     ]
    }
   ],
   "source": [
    "SubfieldsInAI.Subfields()"
   ]
  },
  {
   "cell_type": "code",
   "execution_count": 19,
   "id": "528bc2e6-d69d-4374-bb11-f9ce8cc95412",
   "metadata": {},
   "outputs": [
    {
     "name": "stdin",
     "output_type": "stream",
     "text": [
      "Enter a Number:  52452\n"
     ]
    }
   ],
   "source": [
    "Number=int(input(\"Enter a Number: \"))\n"
   ]
  },
  {
   "cell_type": "code",
   "execution_count": 20,
   "id": "643e641f-8fea-4677-bfc0-678cc9496c08",
   "metadata": {},
   "outputs": [],
   "source": [
    "#Function to check if Given number is Odd or even\n",
    "class OddEven:\n",
    "    def OddEven():\n",
    "        if Number % 2 == 0:\n",
    "            print(Number,\"is even number\")\n",
    "        else:\n",
    "            print(Number,\"is odd number\")\n",
    "        return"
   ]
  },
  {
   "cell_type": "code",
   "execution_count": 21,
   "id": "43e2ead2-8d75-4818-a2a0-fa54ab081a17",
   "metadata": {},
   "outputs": [
    {
     "name": "stdout",
     "output_type": "stream",
     "text": [
      "52452 is even number\n"
     ]
    }
   ],
   "source": [
    "OddEven.OddEven()"
   ]
  },
  {
   "cell_type": "code",
   "execution_count": 22,
   "id": "764c9e66-026a-41c8-8c1c-9dce9706ace2",
   "metadata": {},
   "outputs": [
    {
     "name": "stdin",
     "output_type": "stream",
     "text": [
      "Enter the Gender:  Male\n",
      "Enter the age:  25\n"
     ]
    }
   ],
   "source": [
    "Gender=input(\"Enter the Gender: \")\n",
    "Age=int(input(\"Enter the age: \"))"
   ]
  },
  {
   "cell_type": "code",
   "execution_count": 23,
   "id": "f0b05c8f-f2f0-41d7-ba7e-276d7a5edc1f",
   "metadata": {},
   "outputs": [],
   "source": [
    "#Eligibility check for Marriage\n",
    "class EligibilityForMarriage:\n",
    "    def Eligible():\n",
    "        if Gender == \"Male\":\n",
    "            if Age>=21:\n",
    "                print(\"Male Eligible for Marriage\")\n",
    "        elif Gender == \"Female\":\n",
    "            if Age>=18:\n",
    "                print(\"Female Eligible for Marriage\")\n",
    "        return"
   ]
  },
  {
   "cell_type": "code",
   "execution_count": 24,
   "id": "a23b3f9f-5b35-4c0d-9355-bbea7cd9e803",
   "metadata": {},
   "outputs": [
    {
     "name": "stdout",
     "output_type": "stream",
     "text": [
      "Male Eligible for Marriage\n"
     ]
    }
   ],
   "source": [
    "EligibilityForMarriage.Eligible()"
   ]
  },
  {
   "cell_type": "code",
   "execution_count": 25,
   "id": "a87eaf8e-10c3-4732-8dc0-3ff2e58dddcf",
   "metadata": {},
   "outputs": [
    {
     "name": "stdin",
     "output_type": "stream",
     "text": [
      "Enter number of subjects: 5\n"
     ]
    }
   ],
   "source": [
    "#Calculate percentage of 10th Mark\n",
    "Marks=[]\n",
    "TotalSubjects=int(input(\"Enter number of subjects:\"))\n",
    "Totalmark=500"
   ]
  },
  {
   "cell_type": "code",
   "execution_count": 26,
   "id": "7577b23a-1e80-41f2-8592-6fba7000d287",
   "metadata": {},
   "outputs": [],
   "source": [
    "def percentage():\n",
    "    for calculate in range(TotalSubjects):\n",
    "        Mark = int(input(\"Enter mark for subject: \"))\n",
    "        Marks.append(Mark)\n",
    "        total=sum(Marks)             \n",
    "    percentage = (total / Totalmark) * 100\n",
    "    print(Marks)\n",
    "    print(total)\n",
    "    print(percentage)\n",
    "#return percentage\n",
    "       "
   ]
  },
  {
   "cell_type": "code",
   "execution_count": 5,
   "id": "c12297a4-d50f-4095-bf43-030bbaa16b96",
   "metadata": {},
   "outputs": [
    {
     "name": "stdin",
     "output_type": "stream",
     "text": [
      "Enter mark for subject:  98\n",
      "Enter mark for subject:  87\n",
      "Enter mark for subject:  95\n",
      "Enter mark for subject:  95\n",
      "Enter mark for subject:  93\n"
     ]
    },
    {
     "name": "stdout",
     "output_type": "stream",
     "text": [
      "[98, 87, 95, 95, 93]\n",
      "468\n",
      "93.60000000000001\n"
     ]
    }
   ],
   "source": [
    "percentage()"
   ]
  },
  {
   "cell_type": "code",
   "execution_count": 11,
   "id": "74481858-3483-4b1f-95f8-d91169d77155",
   "metadata": {},
   "outputs": [
    {
     "name": "stdin",
     "output_type": "stream",
     "text": [
      "Enter height: 32\n",
      "Enter breadth: 34\n",
      "Enter height1: 2\n",
      "Enter height2: 4\n",
      "Enter Breadth: 4\n"
     ]
    }
   ],
   "source": [
    "#print area and perimeter of triangle using class and function\n",
    "Height=int(input(\"Enter height:\"))\n",
    "Breadth=int(input(\"Enter breadth:\"))\n",
    "Height1=int(input(\"Enter height1:\"))\n",
    "Height2=int(input(\"Enter height2:\"))\n",
    "breadth2=int(input(\"Enter Breadth:\"))\n"
   ]
  },
  {
   "cell_type": "code",
   "execution_count": 13,
   "id": "dd9491b8-1275-4e96-ab8c-0bd0b455edb6",
   "metadata": {},
   "outputs": [],
   "source": [
    "class Triangle:\n",
    "    def triangle():\n",
    "            Area=(Height * Breadth) / 2\n",
    "            print(\"Area of Triangle\",Area)\n",
    "            perimeter = Height1 + Height2 + breadth2\n",
    "            print(\"Perimeter is\",perimeter)\n"
   ]
  },
  {
   "cell_type": "code",
   "execution_count": 14,
   "id": "c9f590f0-696c-4b7a-8c81-5069abb1417a",
   "metadata": {},
   "outputs": [
    {
     "name": "stdout",
     "output_type": "stream",
     "text": [
      "Area of Triangle 544.0\n",
      "Perimeter is 10\n"
     ]
    }
   ],
   "source": [
    "Triangle.triangle()"
   ]
  },
  {
   "cell_type": "code",
   "execution_count": null,
   "id": "f13e3add-f54d-4a27-bda4-617d1c5ad587",
   "metadata": {},
   "outputs": [],
   "source": []
  }
 ],
 "metadata": {
  "kernelspec": {
   "display_name": "Python [conda env:base] *",
   "language": "python",
   "name": "conda-base-py"
  },
  "language_info": {
   "codemirror_mode": {
    "name": "ipython",
    "version": 3
   },
   "file_extension": ".py",
   "mimetype": "text/x-python",
   "name": "python",
   "nbconvert_exporter": "python",
   "pygments_lexer": "ipython3",
   "version": "3.13.5"
  }
 },
 "nbformat": 4,
 "nbformat_minor": 5
}
