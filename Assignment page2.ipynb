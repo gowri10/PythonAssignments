{
 "cells": [
  {
   "cell_type": "code",
   "execution_count": 4,
   "id": "8e58c9e4-49ef-4d40-abd2-a0b226c4bbcc",
   "metadata": {},
   "outputs": [
    {
     "name": "stdout",
     "output_type": "stream",
     "text": [
      "0\n",
      "1\n",
      "2\n",
      "3\n",
      "4\n",
      "5\n",
      "6\n",
      "7\n",
      "8\n",
      "9\n",
      "10\n",
      "11\n",
      "12\n",
      "13\n",
      "14\n",
      "15\n",
      "16\n",
      "17\n",
      "18\n",
      "19\n"
     ]
    }
   ],
   "source": [
    "#Assignment level 2\n",
    "#print 0 to 20 using range - #1\n",
    "for num in range(0,20):\n",
    "    print(num)\n"
   ]
  },
  {
   "cell_type": "code",
   "execution_count": 6,
   "id": "2300d86e-1154-448a-9a44-3dfa936530d1",
   "metadata": {},
   "outputs": [
    {
     "name": "stdout",
     "output_type": "stream",
     "text": [
      "10 11 12 13 14 15 16 17 18 19 "
     ]
    }
   ],
   "source": [
    "#print range 10 to 20 - #2\n",
    "for num in range(10,20):\n",
    "    print(num,end=\" \")"
   ]
  },
  {
   "cell_type": "code",
   "execution_count": 7,
   "id": "8fa02754-372b-45bf-82b0-2b1994d7fdbb",
   "metadata": {},
   "outputs": [
    {
     "name": "stdout",
     "output_type": "stream",
     "text": [
      "Number of items in the list2: 7\n"
     ]
    }
   ],
   "source": [
    "#print number of items in list using 'len' - #3\n",
    "# For a list\n",
    "list = [10,20,14,55,43,87,76]\n",
    "print(\"Number of items in the list2:\", len(list))"
   ]
  },
  {
   "cell_type": "code",
   "execution_count": 12,
   "id": "74631bda-9fec-4636-b9aa-7533436db0be",
   "metadata": {},
   "outputs": [
    {
     "name": "stdout",
     "output_type": "stream",
     "text": [
      "A\n",
      "r\n",
      "t\n",
      "i\n",
      "f\n",
      "i\n",
      "c\n",
      "i\n",
      "a\n",
      "l\n",
      " \n",
      "I\n",
      "n\n",
      "t\n",
      "e\n",
      "l\n",
      "l\n",
      "i\n",
      "g\n",
      "e\n",
      "n\n",
      "c\n",
      "e\n"
     ]
    }
   ],
   "source": [
    "#print Artificial Intelligence - #4\n",
    "text=\"Artificial Intelligence\"\n",
    "for char in text:\n",
    "    print(char)\n"
   ]
  },
  {
   "cell_type": "code",
   "execution_count": 16,
   "id": "344f98d5-d053-49d2-bcc8-f9b8aa95727b",
   "metadata": {},
   "outputs": [
    {
     "name": "stdout",
     "output_type": "stream",
     "text": [
      "Your Name:Gowri\n",
      "Your Age:40\n",
      "Your Profession:Bank employee\n"
     ]
    }
   ],
   "source": [
    "#For loop and print name age profession - #5\n",
    "Details=[\"Your Name:Gowri\",\"Your Age:40\",\"Your Profession:Bank employee\"]\n",
    "for retrivedetails in Details:\n",
    "    print(retrivedetails)"
   ]
  },
  {
   "cell_type": "code",
   "execution_count": 17,
   "id": "103559ad-7696-4682-b665-5d0263e2badc",
   "metadata": {},
   "outputs": [
    {
     "name": "stdout",
     "output_type": "stream",
     "text": [
      "19 is odd\n",
      "25 is odd\n",
      "1 is odd\n"
     ]
    }
   ],
   "source": [
    "#Print odd numbers from list #6\n",
    "numbers = [20,10,16,19,25,1,276,188]\n",
    "\n",
    "for num in numbers:\n",
    "    if num % 2 != 0:\n",
    "        print(num,\"is odd\")"
   ]
  },
  {
   "cell_type": "code",
   "execution_count": 19,
   "id": "0c500498-2928-48de-a6fe-46c3d329a7b7",
   "metadata": {},
   "outputs": [
    {
     "name": "stdout",
     "output_type": "stream",
     "text": [
      "20 is even\n",
      "10 is even\n",
      "16 is even\n",
      "276 is even\n",
      "188 is even\n"
     ]
    }
   ],
   "source": [
    "#Print Even numbers from list #7\n",
    "numbers = [20,10,16,19,25,1,276,188]\n",
    "\n",
    "for num in numbers:\n",
    "    if num % 2 == 0:\n",
    "        print(num,\"is even\")"
   ]
  },
  {
   "cell_type": "code",
   "execution_count": null,
   "id": "fcbe5e4d-6fbb-4f31-828e-66111ffa50cd",
   "metadata": {},
   "outputs": [],
   "source": []
  }
 ],
 "metadata": {
  "kernelspec": {
   "display_name": "Python [conda env:base] *",
   "language": "python",
   "name": "conda-base-py"
  },
  "language_info": {
   "codemirror_mode": {
    "name": "ipython",
    "version": 3
   },
   "file_extension": ".py",
   "mimetype": "text/x-python",
   "name": "python",
   "nbconvert_exporter": "python",
   "pygments_lexer": "ipython3",
   "version": "3.13.5"
  }
 },
 "nbformat": 4,
 "nbformat_minor": 5
}
