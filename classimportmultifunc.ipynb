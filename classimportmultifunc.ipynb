{
 "cells": [
  {
   "cell_type": "code",
   "execution_count": 3,
   "id": "ba4eef2b-e111-42f3-9d15-2115b7840cdf",
   "metadata": {},
   "outputs": [],
   "source": [
    "from Multiplalibrary import multifunctions"
   ]
  },
  {
   "cell_type": "code",
   "execution_count": 4,
   "id": "eefdc86f-6f1e-443b-a6a9-0f3c488d5460",
   "metadata": {},
   "outputs": [
    {
     "name": "stdin",
     "output_type": "stream",
     "text": [
      "Enter a Number:  56\n"
     ]
    },
    {
     "name": "stdout",
     "output_type": "stream",
     "text": [
      "56 is even number\n"
     ]
    }
   ],
   "source": [
    "multifunctions.OddEven()"
   ]
  },
  {
   "cell_type": "code",
   "execution_count": 9,
   "id": "e79ba27f-abda-453c-bf8b-02626e4e2df9",
   "metadata": {},
   "outputs": [
    {
     "name": "stdin",
     "output_type": "stream",
     "text": [
      "Enter the Gender:  Female\n",
      "Enter the age:  20\n"
     ]
    },
    {
     "name": "stdout",
     "output_type": "stream",
     "text": [
      "Female Eligible for Marriage\n"
     ]
    }
   ],
   "source": [
    "multifunctions.Eligible()"
   ]
  },
  {
   "cell_type": "code",
   "execution_count": null,
   "id": "5428dad4-393b-4d2d-b087-01fca8b3cb7b",
   "metadata": {},
   "outputs": [],
   "source": []
  }
 ],
 "metadata": {
  "kernelspec": {
   "display_name": "Python [conda env:base] *",
   "language": "python",
   "name": "conda-base-py"
  },
  "language_info": {
   "codemirror_mode": {
    "name": "ipython",
    "version": 3
   },
   "file_extension": ".py",
   "mimetype": "text/x-python",
   "name": "python",
   "nbconvert_exporter": "python",
   "pygments_lexer": "ipython3",
   "version": "3.13.5"
  }
 },
 "nbformat": 4,
 "nbformat_minor": 5
}
