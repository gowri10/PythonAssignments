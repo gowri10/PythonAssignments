{
 "cells": [
  {
   "cell_type": "code",
   "execution_count": 4,
   "id": "5bc53cbf-5d0e-4724-969d-957258122e64",
   "metadata": {},
   "outputs": [
    {
     "name": "stdout",
     "output_type": "stream",
     "text": [
      "value: 10\n",
      "correct\n"
     ]
    }
   ],
   "source": [
    "#print correct using If\n",
    "value=10\n",
    "if(value==10):\n",
    "    print(\"value:\",value)\n",
    "    print(\"correct\")"
   ]
  },
  {
   "cell_type": "code",
   "execution_count": 7,
   "id": "c5c09a7a-e3cd-4bf0-9f23-718c66e8f589",
   "metadata": {},
   "outputs": [
    {
     "name": "stdin",
     "output_type": "stream",
     "text": [
      "Enter your password:  HOPE@123\n"
     ]
    },
    {
     "name": "stdout",
     "output_type": "stream",
     "text": [
      "Your password is correct\n"
     ]
    }
   ],
   "source": [
    "#check the password using if else\n",
    "password=\"HOPE@123\"\n",
    "input(\"Enter your password: \")\n",
    "if(password==\"HOPE@123\"):\n",
    "    print(\"Your password is correct\")\n",
    "else:\n",
    "    print(\"Your password is Incorrect\")"
   ]
  },
  {
   "cell_type": "code",
   "execution_count": 8,
   "id": "285764e1-d6dc-426b-bb95-a121722df2e2",
   "metadata": {},
   "outputs": [
    {
     "name": "stdin",
     "output_type": "stream",
     "text": [
      "Age:  20\n"
     ]
    },
    {
     "name": "stdout",
     "output_type": "stream",
     "text": [
      "Adult\n"
     ]
    }
   ],
   "source": [
    "#categorise people by their age like children, adult, citizen, senior citizen\n",
    "age = int(input(\"Age: \"))\n",
    "if age < 18:\n",
    "    print(\"Children\")\n",
    "elif age < 30:\n",
    "    print(\"Adult\")\n",
    "elif age < 60:\n",
    "    print(\"Citizen\")\n",
    "else:\n",
    "    print(\"Senior Citizen\")"
   ]
  },
  {
   "cell_type": "code",
   "execution_count": 9,
   "id": "ad2e0926-a0fb-4a61-aa0d-f3a543c0b454",
   "metadata": {},
   "outputs": [
    {
     "name": "stdin",
     "output_type": "stream",
     "text": [
      "Enter any number:  6\n"
     ]
    },
    {
     "name": "stdout",
     "output_type": "stream",
     "text": [
      "No. is Positive\n"
     ]
    }
   ],
   "source": [
    "#Find if given number is positive or negative\n",
    "num = float(input(\"Enter any number: \"))\n",
    "\n",
    "if num > 0:\n",
    "    print(\"No. is Positive\")\n",
    "else:\n",
    "    print(\"No. is Negative\")\n"
   ]
  },
  {
   "cell_type": "code",
   "execution_count": 10,
   "id": "b2067320-595f-44e7-97c9-8e8695b6d6ed",
   "metadata": {},
   "outputs": [
    {
     "name": "stdin",
     "output_type": "stream",
     "text": [
      "Enter a number:  22\n"
     ]
    },
    {
     "name": "stdout",
     "output_type": "stream",
     "text": [
      "No. is not divisible by 5\n"
     ]
    }
   ],
   "source": [
    "#check if given number is divisible by 5\n",
    "num = int(input(\"Enter a number: \"))\n",
    "\n",
    "if num % 5 == 0:\n",
    "    print(\"No. is divisible by 5\")\n",
    "else:\n",
    "    print(\"No. is not divisible by 5\")"
   ]
  },
  {
   "cell_type": "code",
   "execution_count": null,
   "id": "bfdf3819-4aba-4210-8e14-ccc71d5baf1c",
   "metadata": {},
   "outputs": [],
   "source": []
  }
 ],
 "metadata": {
  "kernelspec": {
   "display_name": "Python [conda env:base] *",
   "language": "python",
   "name": "conda-base-py"
  },
  "language_info": {
   "codemirror_mode": {
    "name": "ipython",
    "version": 3
   },
   "file_extension": ".py",
   "mimetype": "text/x-python",
   "name": "python",
   "nbconvert_exporter": "python",
   "pygments_lexer": "ipython3",
   "version": "3.13.5"
  }
 },
 "nbformat": 4,
 "nbformat_minor": 5
}
